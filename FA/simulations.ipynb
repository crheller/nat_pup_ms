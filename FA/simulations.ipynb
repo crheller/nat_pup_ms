{
 "cells": [
  {
   "cell_type": "code",
   "execution_count": null,
   "metadata": {},
   "outputs": [],
   "source": [
    "# load stategain model and then simulate adding noise in different ways to reproduce measured pop. statistics / noise correlations"
   ]
  }
 ],
 "metadata": {
  "language_info": {
   "name": "python"
  },
  "orig_nbformat": 4
 },
 "nbformat": 4,
 "nbformat_minor": 2
}
