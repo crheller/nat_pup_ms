{
 "cells": [
  {
   "cell_type": "code",
   "execution_count": null,
   "metadata": {},
   "outputs": [],
   "source": [
    "# load stategain model and then simulate adding noise in different ways to reproduce measured pop. statistics / noise correlations"
   ]
  },
  {
   "cell_type": "code",
   "execution_count": 1,
   "metadata": {},
   "outputs": [
    {
     "name": "stderr",
     "output_type": "stream",
     "text": [
      "[nems.configs.defaults INFO] Saving log messages to /tmp/nems/NEMS 2022-03-13 064357.log\n"
     ]
    }
   ],
   "source": [
    "from nems.xform_helper import load_model_xform\n",
    "import nems.db as nd\n",
    "\n",
    "import pandas as pd\n",
    "import numpy as np\n",
    "import matplotlib.pyplot as plt\n",
    "import matplotlib as mpl\n",
    "mpl.rcParams['axes.spines.right'] = False\n",
    "mpl.rcParams['axes.spines.top'] = False\n",
    "mpl.rcParams['font.size'] = 12\n",
    "\n",
    "import sys\n",
    "sys.path.append(\"/auto/users/hellerc/code/projects/nat_pupil_ms/\")\n",
    "from global_settings import CPN_SITES, HIGHR_SITES"
   ]
  },
  {
   "cell_type": "code",
   "execution_count": 2,
   "metadata": {},
   "outputs": [
    {
     "name": "stderr",
     "output_type": "stream",
     "text": [
      "[nems.xforms INFO] Loading xfspec and context from /auto/data/nems_db/results/331/AMT020a/psth.fs4.pup-ld-st.pup-epcpn-hrc-psthfr.z-aev.stategain.SxR.tfinit.n.lr1e4.cont....-5492761866588744812 ...\n",
      "[nems.xforms INFO] Evaluating: nems.xforms.init_context\n",
      "[nems.xforms INFO] Evaluating: nems.xforms.init_context\n",
      "[nems.xforms INFO] xf argument cellid overlaps with existing context key: nems.xforms.init_context\n",
      "[nems.xforms INFO] Evaluating: nems.xforms.load_recordings\n",
      "[nems.utils INFO] Adjusting URI from http://hyrax.ohsu.edu:3003/recordings/331/AMT020a_eb4a1abbdccff095212f099664ec974b7cff14a4.tgz to /auto/data/nems_db/recordings/331/AMT020a_eb4a1abbdccff095212f099664ec974b7cff14a4.tgz\n",
      "[nems.xforms INFO] Extracting cellid(s) ['AMT020a-02-1', 'AMT020a-04-1', 'AMT020a-07-1', 'AMT020a-08-1', 'AMT020a-09-1', 'AMT020a-11-1', 'AMT020a-12-1', 'AMT020a-13-1', 'AMT020a-16-1', 'AMT020a-16-2', 'AMT020a-17-1', 'AMT020a-17-2', 'AMT020a-22-2', 'AMT020a-22-3', 'AMT020a-24-5', 'AMT020a-24-6', 'AMT020a-25-2', 'AMT020a-25-3', 'AMT020a-26-1', 'AMT020a-26-2', 'AMT020a-27-3', 'AMT020a-28-3', 'AMT020a-28-4', 'AMT020a-29-1', 'AMT020a-29-2', 'AMT020a-29-3', 'AMT020a-30-6', 'AMT020a-31-1', 'AMT020a-31-2', 'AMT020a-34-3', 'AMT020a-37-2', 'AMT020a-39-1', 'AMT020a-40-2', 'AMT020a-42-1', 'AMT020a-49-2', 'AMT020a-51-3', 'AMT020a-51-4', 'AMT020a-52-1', 'AMT020a-55-1', 'AMT020a-55-2', 'AMT020a-58-2', 'AMT020a-58-3', 'AMT020a-61-1', 'AMT020a-64-1', 'AMT020a-64-2']\n",
      "[nems.preprocessing INFO] Adding to epoch_onsets: TRIAL with shift = 0\n",
      "[nems.xforms INFO] Evaluating: nems.xforms.make_state_signal\n",
      "[nems.xforms INFO] Evaluating: nems_lbhb.preprocessing.fix_cpn_epochs\n",
      "/auto/users/hellerc/anaconda3/envs/lbhb/lib/python3.7/site-packages/pandas/core/generic.py:5303: SettingWithCopyWarning: \n",
      "A value is trying to be set on a copy of a slice from a DataFrame.\n",
      "Try using .loc[row_indexer,col_indexer] = value instead\n",
      "\n",
      "See the caveats in the documentation: https://pandas.pydata.org/pandas-docs/stable/user_guide/indexing.html#returning-a-view-versus-a-copy\n",
      "  self[name] = value\n",
      "[nems.xforms INFO] Evaluating: nems_lbhb.preprocessing.mask_high_repetion_stims\n",
      "[nems.xforms INFO] Evaluating: nems.xforms.generate_psth_from_resp\n",
      "[nems.preprocessing INFO] generating PSTHs for 4 epochs\n",
      "[nems.xforms INFO] Evaluating: nems.xforms.use_all_data_for_est_and_val\n",
      "[nems.xforms INFO] Evaluating: nems.xforms.init_from_keywords\n",
      "[nems.xforms INFO] Evaluating: nems.xforms.fit_wrapper\n",
      "[nems.xforms INFO] Evaluating: nems.xforms.predict\n",
      "[nems.xforms INFO] Evaluating: nems.xforms.add_summary_statistics\n",
      "[nems.xforms INFO] cell_index: 0\n",
      "/auto/users/hellerc/anaconda3/envs/lbhb/lib/python3.7/site-packages/numpy/lib/function_base.py:2534: RuntimeWarning: invalid value encountered in true_divide\n",
      "  c /= stddev[:, None]\n",
      "/auto/users/hellerc/anaconda3/envs/lbhb/lib/python3.7/site-packages/numpy/lib/function_base.py:2535: RuntimeWarning: invalid value encountered in true_divide\n",
      "  c /= stddev[None, :]\n",
      "[nems.xforms INFO] Skipping jackknife MI calculations\n",
      "[nems.metrics.state INFO] state_mod_index for pred, state_raw, baseline\n",
      "[nems.metrics.state INFO] state_mod_index for pred, state_raw, pupil\n",
      "[nems.metrics.state INFO] state_mod_index for resp, state_raw, baseline\n",
      "[nems.metrics.state INFO] state_mod_index for resp, state_raw, pupil\n",
      "[nems.xforms INFO] Evaluating: nems.xforms.plot_summary\n",
      "[nems.xforms INFO] Done (re-)evaluating xforms.\n"
     ]
    }
   ],
   "source": [
    "modelname = 'psth.fs4.pup-ld-st.pup-epcpn-hrc-psthfr.z-aev_stategain.SxR_tfinit.n.lr1e4.cont.et5.i50000'\n",
    "site = \"AMT020a\"\n",
    "batch = 331\n",
    "cellid = [c for c in nd.get_batch_cells(batch).cellid if site in c][0]\n",
    "xf, ctx = load_model_xform(cellid=cellid, batch=batch, modelname=modelname)"
   ]
  },
  {
   "cell_type": "code",
   "execution_count": 5,
   "metadata": {},
   "outputs": [],
   "source": [
    "# adapt nems functions to apply noise -- take from nems_lbhb.modules.state.py\n",
    "def indep_multiplicative(x, g, state, indep_noise):\n",
    "    x = x * np.exp((g @ state[:g.shape[1],:]) * indep_noise)\n",
    "    return x\n",
    "\n",
    "def indep_additive(x, g, state, indep_noise):\n",
    "    x = x + (g @ state[:g.shape[1],:]) * indep_noise\n",
    "    return x\n",
    "\n",
    "def shared_multiplicative(x, g, d, state, lv):\n",
    "    x = x.copy()\n",
    "    # faster(?): compute all scaling terms then apply at once (outside of loop)\n",
    "    sf = np.zeros_like(x)\n",
    "    for l in range(d.shape[1]):\n",
    "        sf += (d[:,[l]] + g[:,[l]]*state[[l],:]) * lv[[l],:]\n",
    "    \n",
    "    x *= np.exp(sf)\n",
    "    return x\n",
    "\n",
    "def shared_additive(x, g, d, state, lv):\n",
    "    x = x.copy()\n",
    "    for l in range(d.shape[1]):\n",
    "        x += (d[:,l:(l+1)] + g[:,l:(l+1)]*state[l:(l+1),:]) * lv[l:(l+1),:] \n",
    "    return x"
   ]
  },
  {
   "cell_type": "code",
   "execution_count": 5,
   "metadata": {},
   "outputs": [
    {
     "name": "stderr",
     "output_type": "stream",
     "text": [
      "[nems_lbhb.baphy_experiment INFO] Cached recording: /auto/data/nems_db/recordings/331/AMT020a_00f577ceb4f996132b73d081720e2cf5c38663f4.tgz\n",
      "[nems_lbhb.baphy_experiment INFO] Cached recording found\n",
      "/auto/users/hellerc/anaconda3/envs/lbhb/lib/python3.7/site-packages/pandas/core/generic.py:5303: SettingWithCopyWarning: \n",
      "A value is trying to be set on a copy of a slice from a DataFrame.\n",
      "Try using .loc[row_indexer,col_indexer] = value instead\n",
      "\n",
      "See the caveats in the documentation: https://pandas.pydata.org/pandas-docs/stable/user_guide/indexing.html#returning-a-view-versus-a-copy\n",
      "  self[name] = value\n",
      "[root INFO] Extracting cellids: ['AMT020a-02-1', 'AMT020a-04-1', 'AMT020a-07-1', 'AMT020a-08-1', 'AMT020a-09-1', 'AMT020a-11-1', 'AMT020a-12-1', 'AMT020a-13-1', 'AMT020a-16-1', 'AMT020a-16-2', 'AMT020a-17-1', 'AMT020a-17-2', 'AMT020a-22-2', 'AMT020a-22-3', 'AMT020a-24-5', 'AMT020a-24-6', 'AMT020a-25-2', 'AMT020a-25-3', 'AMT020a-26-1', 'AMT020a-26-2', 'AMT020a-27-3', 'AMT020a-28-3', 'AMT020a-28-4', 'AMT020a-29-1', 'AMT020a-29-2', 'AMT020a-29-3', 'AMT020a-30-6', 'AMT020a-31-1', 'AMT020a-31-2', 'AMT020a-34-3', 'AMT020a-37-2', 'AMT020a-39-1', 'AMT020a-40-2', 'AMT020a-42-1', 'AMT020a-49-2', 'AMT020a-51-3', 'AMT020a-51-4', 'AMT020a-52-1', 'AMT020a-55-1', 'AMT020a-55-2', 'AMT020a-58-2', 'AMT020a-58-3', 'AMT020a-61-1', 'AMT020a-64-1', 'AMT020a-64-2']\n",
      "[nems.xforms INFO] Loading xfspec and context from /auto/data/nems_db/results/331/AMT020a/psth.fs4.pup-ld-st.pup-epcpn-hrc-psthfr.z-aev.stategain.SxR.tfinit.n.lr1e4.cont....-5492761866588744812 ...\n",
      "[nems.xforms INFO] Evaluating: nems.xforms.init_context\n",
      "[nems.xforms INFO] Evaluating: nems.xforms.init_context\n",
      "[nems.xforms INFO] xf argument cellid overlaps with existing context key: nems.xforms.init_context\n",
      "[nems.xforms INFO] Evaluating: nems.xforms.load_recordings\n",
      "[nems.utils INFO] Adjusting URI from http://hyrax.ohsu.edu:3003/recordings/331/AMT020a_eb4a1abbdccff095212f099664ec974b7cff14a4.tgz to /auto/data/nems_db/recordings/331/AMT020a_eb4a1abbdccff095212f099664ec974b7cff14a4.tgz\n",
      "[nems.xforms INFO] Extracting cellid(s) ['AMT020a-02-1', 'AMT020a-04-1', 'AMT020a-07-1', 'AMT020a-08-1', 'AMT020a-09-1', 'AMT020a-11-1', 'AMT020a-12-1', 'AMT020a-13-1', 'AMT020a-16-1', 'AMT020a-16-2', 'AMT020a-17-1', 'AMT020a-17-2', 'AMT020a-22-2', 'AMT020a-22-3', 'AMT020a-24-5', 'AMT020a-24-6', 'AMT020a-25-2', 'AMT020a-25-3', 'AMT020a-26-1', 'AMT020a-26-2', 'AMT020a-27-3', 'AMT020a-28-3', 'AMT020a-28-4', 'AMT020a-29-1', 'AMT020a-29-2', 'AMT020a-29-3', 'AMT020a-30-6', 'AMT020a-31-1', 'AMT020a-31-2', 'AMT020a-34-3', 'AMT020a-37-2', 'AMT020a-39-1', 'AMT020a-40-2', 'AMT020a-42-1', 'AMT020a-49-2', 'AMT020a-51-3', 'AMT020a-51-4', 'AMT020a-52-1', 'AMT020a-55-1', 'AMT020a-55-2', 'AMT020a-58-2', 'AMT020a-58-3', 'AMT020a-61-1', 'AMT020a-64-1', 'AMT020a-64-2']\n",
      "[nems.preprocessing INFO] Adding to epoch_onsets: TRIAL with shift = 0\n",
      "[nems.xforms INFO] Evaluating: nems.xforms.make_state_signal\n",
      "[nems.xforms INFO] Evaluating: nems_lbhb.preprocessing.fix_cpn_epochs\n",
      "[nems.xforms INFO] Evaluating: nems_lbhb.preprocessing.mask_high_repetion_stims\n",
      "[nems.xforms INFO] Evaluating: nems.xforms.generate_psth_from_resp\n",
      "[nems.preprocessing INFO] generating PSTHs for 4 epochs\n",
      "[nems.xforms INFO] Evaluating: nems.xforms.use_all_data_for_est_and_val\n",
      "[nems.xforms INFO] Evaluating: nems.xforms.init_from_keywords\n",
      "[nems.xforms INFO] Evaluating: nems.xforms.fit_wrapper\n",
      "[nems.xforms INFO] Evaluating: nems.xforms.predict\n",
      "[nems.xforms INFO] Evaluating: nems.xforms.add_summary_statistics\n",
      "[nems.xforms INFO] cell_index: 0\n",
      "/auto/users/hellerc/anaconda3/envs/lbhb/lib/python3.7/site-packages/numpy/lib/function_base.py:2534: RuntimeWarning: invalid value encountered in true_divide\n",
      "  c /= stddev[:, None]\n",
      "/auto/users/hellerc/anaconda3/envs/lbhb/lib/python3.7/site-packages/numpy/lib/function_base.py:2535: RuntimeWarning: invalid value encountered in true_divide\n",
      "  c /= stddev[None, :]\n",
      "[nems.xforms INFO] Skipping jackknife MI calculations\n",
      "[nems.metrics.state INFO] state_mod_index for pred, state_raw, baseline\n",
      "[nems.metrics.state INFO] state_mod_index for pred, state_raw, pupil\n",
      "[nems.metrics.state INFO] state_mod_index for resp, state_raw, baseline\n",
      "[nems.metrics.state INFO] state_mod_index for resp, state_raw, pupil\n",
      "[nems.xforms INFO] Evaluating: nems.xforms.plot_summary\n",
      "[nems.xforms INFO] Done (re-)evaluating xforms.\n"
     ]
    }
   ],
   "source": [
    "# Perform factor analysis using just the pupil-dependent gain prediction. \n",
    "from sklearn.decomposition import FactorAnalysis\n",
    "from charlieTools.nat_sounds_ms.decoding import load_site\n",
    "\n",
    "X, sp_bins, X_pup, pup_mask, epochs = load_site(site=site, batch=int(batch), xforms_modelname=modelname, return_epoch_list=True)\n"
   ]
  },
  {
   "cell_type": "code",
   "execution_count": 19,
   "metadata": {},
   "outputs": [],
   "source": [
    "from charlieTools.nat_sounds_ms.preprocessing import fold_X, flatten_X"
   ]
  },
  {
   "cell_type": "code",
   "execution_count": 69,
   "metadata": {},
   "outputs": [],
   "source": [
    "np.random.seed(123)\n",
    "xflat = flatten_X(X)\n",
    "pflat = flatten_X(X_pup)\n",
    "pflat = (pflat - pflat.mean()) / pflat.std()\n",
    "# Add indep. noise\n",
    "inoise = np.random.normal(0, 1, xflat.shape)\n",
    "\n",
    "# not pupil-dependent\n",
    "ig = np.random.normal(2.5, 0.1, (xflat.shape[0], 1))\n",
    "ig = ig / np.linalg.norm(ig)\n",
    "xflat = indep_multiplicative(xflat, ig, pflat, inoise)\n",
    "\n",
    "# pupil-dependent\n",
    "\n",
    "# Add shared noise\n",
    "\n",
    "# not pupil-dependent\n",
    "\n",
    "# pupil-dependent\n",
    "\n",
    "X = fold_X(xflat, nstim=X.shape[2], nreps=X.shape[1], nbins=X.shape[-1])"
   ]
  },
  {
   "cell_type": "code",
   "execution_count": 3,
   "metadata": {},
   "outputs": [],
   "source": [
    "# define functions for calculating pop metrics\n",
    "from scipy.signal import argrelextrema\n",
    "def get_dim(LL):\n",
    "    try:\n",
    "        return argrelextrema(LL, np.greater)[0][0]+1\n",
    "    except:\n",
    "        print(\"No relative LL max, choosing overall maximum\")\n",
    "        return np.argmax(LL)+1\n",
    "\n",
    "def sigma_shared(model):\n",
    "    return (model.components_.T @ model.components_)\n",
    "\n",
    "def get_dim95(model):\n",
    "    \"\"\"\n",
    "    number of dims to explain 95% of shared var\n",
    "    \"\"\"\n",
    "    ss = sigma_shared(model)\n",
    "    evals, _ = np.linalg.eig(ss)\n",
    "    evals = evals / sum(evals)\n",
    "    return np.argwhere(np.cumsum(evals)>=0.95)[0][0]+1\n",
    "\n",
    "def get_sv(model):\n",
    "    sig_shared = sigma_shared(model) # rank n_components cov matrix\n",
    "    full_cov_pred = sig_shared + np.diag(model.noise_variance_)\n",
    "    # % shared variance\n",
    "    # per neuron\n",
    "    pn = np.diag(sig_shared) / np.diag(full_cov_pred)\n",
    "    # average\n",
    "    sv = np.mean(pn)\n",
    "    return sv\n",
    "\n",
    "def get_loading_similarity(model, dim=0):\n",
    "    # loading similarity\n",
    "    loading = model.components_[dim, :]\n",
    "    loading /= np.linalg.norm(loading)\n",
    "    load_sim = 1 - (np.var(loading) / (1 / len(loading)))\n",
    "    return load_sim"
   ]
  },
  {
   "cell_type": "markdown",
   "metadata": {},
   "source": [
    "## Perform FA on the simulated / modeled data"
   ]
  },
  {
   "cell_type": "code",
   "execution_count": 71,
   "metadata": {},
   "outputs": [
    {
     "name": "stdout",
     "output_type": "stream",
     "text": [
      "\n",
      "Computing log-likelihood across models / nfolds\n",
      "1 / 20\n",
      "2 / 20\n",
      "3 / 20\n",
      "4 / 20\n",
      "5 / 20\n",
      "6 / 20\n",
      "7 / 20\n",
      "8 / 20\n",
      "9 / 20\n",
      "10 / 20\n",
      "11 / 20\n",
      "12 / 20\n",
      "13 / 20\n",
      "14 / 20\n",
      "15 / 20\n",
      "16 / 20\n",
      "17 / 20\n",
      "18 / 20\n",
      "19 / 20\n",
      "20 / 20\n",
      "Estimating %sv and loading similarity for the 'best' model\n",
      "No relative LL max, choosing overall maximum\n",
      "No relative LL max, choosing overall maximum\n"
     ]
    }
   ],
   "source": [
    "shuffle = False\n",
    "\n",
    "# fit all stim together, after subtracting psth\n",
    "# \"special\" cross-validation -- fitting individual stims doesn't work, not enough data\n",
    "# instead, leave-one-stim out fitting to find dims that are shared / stimulus-independent\n",
    "nstim = X.shape[-1] * X.shape[-2]\n",
    "Xsub = (X - X.mean(axis=1, keepdims=True))\n",
    "Xfa = Xsub.reshape(X.shape[0], X.shape[1], nstim)\n",
    "pm = pup_mask.reshape(pup_mask.shape[0], pup_mask.shape[1], nstim)\n",
    "if shuffle:\n",
    "    pm = pm[:, np.random.choice(range(pup_mask.shape[1]), pup_mask.shape[1], replace=False), :]\n",
    "nfold = nstim\n",
    "nComponents = 20\n",
    "if X.shape[0] < nComponents:\n",
    "    nComponents = X.shape[0]\n",
    "\n",
    "print(\"\\nComputing log-likelihood across models / nfolds\")\n",
    "LL = np.zeros((20, nfold))\n",
    "LL_small = np.zeros((20, nfold))\n",
    "LL_large = np.zeros((20, nfold))\n",
    "for ii in np.arange(1, LL.shape[0]+1):\n",
    "    print(f\"{ii} / {LL.shape[0]}\")\n",
    "    fa = FactorAnalysis(n_components=ii, random_state=0) # init model\n",
    "    for nf in range(nfold):\n",
    "        fit = [x for x in np.arange(0, nstim) if x != nf]\n",
    "\n",
    "        # fit all data\n",
    "        fa.fit(Xfa[:, :, fit].reshape(Xfa.shape[0], -1).T) # fit model\n",
    "        # Get LL score\n",
    "        LL[ii-1, nf] = fa.score(Xfa[:, :, nf].T)\n",
    "\n",
    "        # fit large pupil\n",
    "        fa.fit(Xfa[:, :, fit][:, pm[0, :, fit].T].reshape(Xfa.shape[0], -1).T) # fit model \n",
    "        LL_large[ii-1, nf] = fa.score(Xfa[:, pm[0, :, nf], nf].T)\n",
    "\n",
    "        # fit small pupil\n",
    "        fa.fit(Xfa[:, :, fit][:, pm[0, :, fit].T==False].reshape(Xfa.shape[0], -1).T) # fit model \n",
    "        LL_small[ii-1, nf] = fa.score(Xfa[:, pm[0, :, nf]==False, nf].T)\n",
    "\n",
    "\n",
    "print(\"Estimating %sv and loading similarity for the 'best' model\")\n",
    "sp_dim_sem = np.std([get_dim(LL_small[:, i]) for i in range(LL.shape[1])]) / np.sqrt(LL.shape[1])\n",
    "sp_dim = get_dim(LL_small.mean(axis=-1))\n",
    "# fit the \"best\" model over jackknifes\n",
    "sp_sv = np.zeros(nfold)\n",
    "sp_loading_sim = np.zeros(nfold)\n",
    "sp_dim95 = np.zeros(nfold)\n",
    "for nf in range(nfold):\n",
    "    fit = [x for x in np.arange(0, nstim) if x != nf]\n",
    "    fa_small = FactorAnalysis(n_components=sp_dim, random_state=0) \n",
    "    fa_small.fit(Xfa[:, :, fit][:, pm[0, :, fit].T==False].T)\n",
    "    sp_sv[nf] = get_sv(fa_small)\n",
    "    sp_loading_sim[nf] = get_loading_similarity(fa_small)\n",
    "    # get n dims needs to explain 95% of shared variance\n",
    "    sp_dim95[nf] = get_dim95(fa_small)\n",
    "\n",
    "bp_dim_sem = np.std([get_dim(LL_large[:, i]) for i in range(LL.shape[1])]) / np.sqrt(LL.shape[1])\n",
    "bp_dim = get_dim(LL_large.mean(axis=-1))\n",
    "# fit the \"best\" model over jackknifes\n",
    "bp_sv = np.zeros(nfold)\n",
    "bp_loading_sim = np.zeros(nfold)\n",
    "bp_dim95 = np.zeros(nfold)\n",
    "for nf in range(nfold):\n",
    "    fit = [x for x in np.arange(0, nstim) if x != nf]\n",
    "    fa_big = FactorAnalysis(n_components=bp_dim, random_state=0) \n",
    "    fa_big.fit(Xfa[:, :, fit][:, pm[0, :, fit].T==True].T)\n",
    "    bp_sv[nf] = get_sv(fa_big)\n",
    "    bp_loading_sim[nf] = get_loading_similarity(fa_big)\n",
    "    # get n dims needs to explain 95% of shared variance\n",
    "    bp_dim95[nf] = get_dim95(fa_big)\n",
    "\n",
    "\n",
    "# final fit with all data to get components\n",
    "fa_big = FactorAnalysis(n_components=bp_dim, random_state=0) \n",
    "fa_big.fit(Xfa[:, pm[0]==True].T)\n",
    "bp_sv_all = get_sv(fa_big)\n",
    "bp_ls_all = get_loading_similarity(fa_big)\n",
    "bp_dim95_all = get_dim95(fa_big)\n",
    "\n",
    "fa_small = FactorAnalysis(n_components=sp_dim, random_state=0) \n",
    "fa_small.fit(Xfa[:, pm[0]==False].T)\n",
    "sp_sv_all = get_sv(fa_small)\n",
    "sp_ls_all = get_loading_similarity(fa_small)\n",
    "sp_dim95_all = get_dim95(fa_small)"
   ]
  },
  {
   "cell_type": "code",
   "execution_count": 72,
   "metadata": {},
   "outputs": [
    {
     "data": {
      "image/png": "[encoded data removed]",
      "text/plain": [
       "<Figure size 576x288 with 3 Axes>"
      ]
     },
     "metadata": {
      "needs_background": "light"
     },
     "output_type": "display_data"
    }
   ],
   "source": [
    "f, ax = plt.subplots(1, 3, figsize=(8, 4))\n",
    "\n",
    "\n",
    "ax[0].errorbar([0, 1], [bp_dim, sp_dim], yerr=[bp_dim_sem, sp_dim_sem], marker=\"o\")\n",
    "ax[0].plot([0, 1], [bp_dim95, sp_dim95], marker=\"o\")\n",
    "ax[0].set_xticks([0, 1])\n",
    "ax[0].set_xticklabels([\"bp\", \"sp\"])\n",
    "ax[0].set_ylabel(\"nDim\")\n",
    "ax[0].set_xlim(-0.1, 1.1)\n",
    "\n",
    "ax[1].plot([0, 1], [bp_sv, sp_sv], \"o\")\n",
    "ax[1].set_xticks([0, 1])\n",
    "ax[1].set_xticklabels([\"bp\", \"sp\"])\n",
    "ax[1].set_ylabel(\"%sv\")\n",
    "ax[1].set_xlim(-0.1, 1.1)\n",
    "\n",
    "ax[2].plot([0, 1], [bp_loading_sim, sp_loading_sim], \"o\")\n",
    "ax[2].set_xticks([0, 1])\n",
    "ax[2].set_xticklabels([\"bp\", \"sp\"])\n",
    "ax[2].set_ylabel(\"Loading sim\")\n",
    "ax[2].set_xlim(-0.1, 1.1)\n",
    "\n",
    "f.tight_layout()"
   ]
  },
  {
   "cell_type": "code",
   "execution_count": 14,
   "metadata": {},
   "outputs": [
    {
     "name": "stderr",
     "output_type": "stream",
     "text": [
      "[nems_lbhb.baphy_experiment INFO] Cached recording: /auto/data/nems_db/recordings/331/AMT020a_00f577ceb4f996132b73d081720e2cf5c38663f4.tgz\n",
      "[nems_lbhb.baphy_experiment INFO] Cached recording found\n",
      "/auto/users/hellerc/anaconda3/envs/lbhb/lib/python3.7/site-packages/pandas/core/generic.py:5303: SettingWithCopyWarning: \n",
      "A value is trying to be set on a copy of a slice from a DataFrame.\n",
      "Try using .loc[row_indexer,col_indexer] = value instead\n",
      "\n",
      "See the caveats in the documentation: https://pandas.pydata.org/pandas-docs/stable/user_guide/indexing.html#returning-a-view-versus-a-copy\n",
      "  self[name] = value\n",
      "[root INFO] Extracting cellids: ['AMT020a-02-1', 'AMT020a-04-1', 'AMT020a-07-1', 'AMT020a-08-1', 'AMT020a-09-1', 'AMT020a-11-1', 'AMT020a-12-1', 'AMT020a-13-1', 'AMT020a-16-1', 'AMT020a-16-2', 'AMT020a-17-1', 'AMT020a-17-2', 'AMT020a-22-2', 'AMT020a-22-3', 'AMT020a-24-5', 'AMT020a-24-6', 'AMT020a-25-2', 'AMT020a-25-3', 'AMT020a-26-1', 'AMT020a-26-2', 'AMT020a-27-3', 'AMT020a-28-3', 'AMT020a-28-4', 'AMT020a-29-1', 'AMT020a-29-2', 'AMT020a-29-3', 'AMT020a-30-6', 'AMT020a-31-1', 'AMT020a-31-2', 'AMT020a-34-3', 'AMT020a-37-2', 'AMT020a-39-1', 'AMT020a-40-2', 'AMT020a-42-1', 'AMT020a-49-2', 'AMT020a-51-3', 'AMT020a-51-4', 'AMT020a-52-1', 'AMT020a-55-1', 'AMT020a-55-2', 'AMT020a-58-2', 'AMT020a-58-3', 'AMT020a-61-1', 'AMT020a-64-1', 'AMT020a-64-2']\n"
     ]
    }
   ],
   "source": [
    "#generate a \"simulation\" instead using the factor analysis model for this site\n",
    "# then sweep across different matrices, generated using ddr utils\n",
    "import dDR.utils.surrogate_helpers as sh\n",
    "from loader import load_pop_metrics\n",
    "results = load_pop_metrics(site=site, batch=batch, modelname=\"factor_analysis\")\n",
    "X, sp_bins, X_pup, pup_mask, epochs = load_site(site=site, batch=int(batch), return_epoch_list=True)\n"
   ]
  },
  {
   "cell_type": "code",
   "execution_count": 15,
   "metadata": {},
   "outputs": [
    {
     "data": {
      "text/plain": [
       "dict_keys(['fa_big.components_', 'fa_small.components_', 'fa_big.sigma_shared', 'fa_small.sigma_shared', 'fa_big.sigma_full', 'fa_small.sigma_full', 'bp_sv_all', 'sp_sv_all', 'bp_ls_all', 'sp_ls_all', 'bp_dim95_all', 'sp_dim95_all'])"
      ]
     },
     "execution_count": 15,
     "metadata": {},
     "output_type": "execute_result"
    }
   ],
   "source": [
    "results[\"final_fit\"].keys()"
   ]
  },
  {
   "cell_type": "code",
   "execution_count": 24,
   "metadata": {},
   "outputs": [
    {
     "data": {
      "text/plain": [
       "(45, 50, 4, 3)"
      ]
     },
     "execution_count": 24,
     "metadata": {},
     "output_type": "execute_result"
    }
   ],
   "source": [
    "psth_big = fold_X(X[:, pup_mask[0]==True], nstim=X.shape[2], nreps=int(X.shape[1]/2), nbins=X.shape[-1])\n",
    "psth_big.shape\n"
   ]
  },
  {
   "cell_type": "code",
   "execution_count": 25,
   "metadata": {},
   "outputs": [
    {
     "name": "stderr",
     "output_type": "stream",
     "text": [
      "/auto/users/hellerc/anaconda3/envs/lbhb/lib/python3.7/site-packages/ipykernel_launcher.py:19: RuntimeWarning: covariance is not positive-semidefinite.\n"
     ]
    }
   ],
   "source": [
    "np.random.seed(123)\n",
    "psth_big = fold_X(X[:, pup_mask[0]==True], nstim=X.shape[2], nreps=int(X.shape[1]/2), nbins=X.shape[-1]).mean(axis=1).reshape(X.shape[0], -1)\n",
    "psth_small = fold_X(X[:, pup_mask[0]==False], nstim=X.shape[2], nreps=int(X.shape[1]/2), nbins=X.shape[-1]).mean(axis=1).reshape(X.shape[0], -1)\n",
    "Xsim_big = np.zeros((X.shape[0], 1000, X.shape[2]*X.shape[3]))\n",
    "Xsim_small = np.zeros((X.shape[0], 1000, X.shape[2]*X.shape[3]))\n",
    "cov_big = results[\"final_fit\"][\"fa_big.sigma_full\"]\n",
    "cov_small = results[\"final_fit\"][\"fa_small.sigma_full\"]\n",
    "\n",
    "# generate cov matrices with different pop. metrics\n",
    "# high loading similarity, two dimensions, low shared variance\n",
    "lvs = np.hstack([sh.generate_lv_loading(X.shape[0], mean_loading=2.5, variance=0.1, mag=1) for i in range(2)])\n",
    "lvs = sh.orthonormal(lvs)\n",
    "cov_small = sh.generate_full_rank_cov(lvs)\n",
    "cov_big = sh.generate_full_rank_cov(lvs)\n",
    "np.fill_diagonal(cov_big, np.diag(cov_big)*1.05) # lots of ind. variance\n",
    "np.fill_diagonal(cov_small, np.diag(cov_small)*0.95) # little ind. variance\n",
    "for s in range(psth_big.shape[-1]):\n",
    "    Xsim_big[:, :, s]= np.random.multivariate_normal(psth_big[:, s], cov=cov_big, size=Xsim_big.shape[1]).T\n",
    "    Xsim_small[:, :, s]= np.random.multivariate_normal(psth_small[:, s], cov=cov_small, size=Xsim_big.shape[1]).T"
   ]
  },
  {
   "cell_type": "code",
   "execution_count": 26,
   "metadata": {},
   "outputs": [
    {
     "data": {
      "text/plain": [
       "(45, 12)"
      ]
     },
     "execution_count": 26,
     "metadata": {},
     "output_type": "execute_result"
    }
   ],
   "source": [
    "psth_big.shape"
   ]
  },
  {
   "cell_type": "code",
   "execution_count": 27,
   "metadata": {},
   "outputs": [
    {
     "name": "stdout",
     "output_type": "stream",
     "text": [
      "\n",
      "Computing log-likelihood across models / nfolds\n",
      "1 / 20\n",
      "2 / 20\n",
      "3 / 20\n",
      "4 / 20\n",
      "5 / 20\n",
      "6 / 20\n",
      "7 / 20\n",
      "8 / 20\n",
      "9 / 20\n",
      "10 / 20\n",
      "11 / 20\n",
      "12 / 20\n",
      "13 / 20\n",
      "14 / 20\n",
      "15 / 20\n",
      "16 / 20\n",
      "17 / 20\n",
      "18 / 20\n",
      "19 / 20\n",
      "20 / 20\n",
      "Estimating %sv and loading similarity for the 'best' model\n",
      "\n",
      "Computing log-likelihood across models / nfolds\n",
      "1 / 20\n",
      "2 / 20\n",
      "3 / 20\n",
      "4 / 20\n",
      "5 / 20\n",
      "6 / 20\n",
      "7 / 20\n",
      "8 / 20\n",
      "9 / 20\n",
      "10 / 20\n",
      "11 / 20\n",
      "12 / 20\n",
      "13 / 20\n",
      "14 / 20\n",
      "15 / 20\n",
      "16 / 20\n",
      "17 / 20\n",
      "18 / 20\n",
      "19 / 20\n",
      "20 / 20\n",
      "Estimating %sv and loading similarity for the 'best' model\n"
     ]
    }
   ],
   "source": [
    "fa_sim = {\n",
    "    \"big\": {},\n",
    "    \"small\": {}\n",
    "}\n",
    "for key, X in zip([\"big\", \"small\"], [Xsim_big, Xsim_small]):\n",
    "    nstim = X.shape[-1]\n",
    "    Xsub = (X - X.mean(axis=1, keepdims=True))\n",
    "    Xfa = Xsub\n",
    "    nfold = nstim\n",
    "    nComponents = 20\n",
    "    if X.shape[0] < nComponents:\n",
    "        nComponents = X.shape[0]\n",
    "\n",
    "    print(\"\\nComputing log-likelihood across models / nfolds\")\n",
    "    LL = np.zeros((20, nfold))\n",
    "    for ii in np.arange(1, LL.shape[0]+1):\n",
    "        print(f\"{ii} / {LL.shape[0]}\")\n",
    "        fa = FactorAnalysis(n_components=ii, random_state=0) # init model\n",
    "        for nf in range(nfold):\n",
    "            fit = [x for x in np.arange(0, nstim) if x != nf]\n",
    "\n",
    "            # fit all data\n",
    "            fa.fit(Xfa[:, :, fit].reshape(Xfa.shape[0], -1).T) # fit model\n",
    "            # Get LL score\n",
    "            LL[ii-1, nf] = fa.score(Xfa[:, :, nf].T)\n",
    "\n",
    "\n",
    "    print(\"Estimating %sv and loading similarity for the 'best' model\")\n",
    "    dim_sem = np.std([get_dim(LL[:, i]) for i in range(LL.shape[1])]) / np.sqrt(LL.shape[1])\n",
    "    dim = get_dim(LL.mean(axis=-1))\n",
    "    # fit the \"best\" model over jackknifes\n",
    "    sv = np.zeros(nfold)\n",
    "    loading_sim = np.zeros(nfold)\n",
    "    dim95 = np.zeros(nfold)\n",
    "    for nf in range(nfold):\n",
    "        fit = [x for x in np.arange(0, nstim) if x != nf]\n",
    "        fa = FactorAnalysis(n_components=dim, random_state=0) \n",
    "        fa.fit(Xfa[:, :, fit].reshape(Xfa.shape[0], -1).T)\n",
    "        sv[nf] = get_sv(fa)\n",
    "        loading_sim[nf] = get_loading_similarity(fa)\n",
    "        # get n dims needs to explain 95% of shared variance\n",
    "        dim95[nf] = get_dim95(fa)\n",
    "\n",
    "    # final fit with all data to get components\n",
    "    fa = FactorAnalysis(n_components=dim, random_state=0) \n",
    "    fa.fit(Xfa.reshape(Xfa.shape[0], -1).T)\n",
    "    sv_all = get_sv(fa)\n",
    "    ls_all = get_loading_similarity(fa)\n",
    "    dim95_all = get_dim95(fa)\n",
    "\n",
    "    fa_sim[key][\"sv\"] = sv.mean()\n",
    "    fa_sim[key][\"loading_sim\"] = loading_sim.mean()\n",
    "    fa_sim[key][\"dim\"] = dim95.mean()\n",
    "    fa_sim[key][\"sv_all\"] = sv_all\n",
    "    fa_sim[key][\"loading_sim_all\"] = ls_all\n",
    "    fa_sim[\"dim_all\"] = dim95_all"
   ]
  },
  {
   "cell_type": "code",
   "execution_count": 28,
   "metadata": {},
   "outputs": [
    {
     "data": {
      "image/png": "[encoded data removed]",
      "text/plain": [
       "<Figure size 576x288 with 3 Axes>"
      ]
     },
     "metadata": {
      "needs_background": "light"
     },
     "output_type": "display_data"
    }
   ],
   "source": [
    "f, ax = plt.subplots(1, 3, figsize=(8, 4))\n",
    "\n",
    "\n",
    "ax[0].plot([0, 1], [fa_sim[\"big\"][\"dim\"], fa_sim[\"small\"][\"dim\"]], marker=\"o\")\n",
    "ax[0].set_xticks([0, 1])\n",
    "ax[0].set_xticklabels([\"bp\", \"sp\"])\n",
    "ax[0].set_ylabel(\"nDim\")\n",
    "ax[0].set_xlim(-0.1, 1.1)\n",
    "\n",
    "ax[1].plot([0, 1], [fa_sim[\"big\"][\"sv\"], fa_sim[\"small\"][\"sv\"]], \"o\")\n",
    "ax[1].set_xticks([0, 1])\n",
    "ax[1].set_xticklabels([\"bp\", \"sp\"])\n",
    "ax[1].set_ylabel(\"%sv\")\n",
    "ax[1].set_xlim(-0.1, 1.1)\n",
    "\n",
    "ax[2].plot([0, 1], [fa_sim[\"big\"][\"loading_sim\"], fa_sim[\"small\"][\"loading_sim\"]], \"o\")\n",
    "ax[2].set_xticks([0, 1])\n",
    "ax[2].set_xticklabels([\"bp\", \"sp\"])\n",
    "ax[2].set_ylabel(\"Loading sim\")\n",
    "ax[2].set_xlim(-0.1, 1.1)\n",
    "\n",
    "f.tight_layout()"
   ]
  },
  {
   "cell_type": "code",
   "execution_count": 156,
   "metadata": {},
   "outputs": [],
   "source": [
    "evals, _ = np.linalg.eig(np.cov(Xsub.reshape(Xsub.shape[0], -1)))\n",
    "plt.plot(evals, \"o-\")"
   ]
  },
  {
   "cell_type": "code",
   "execution_count": null,
   "metadata": {},
   "outputs": [],
   "source": []
  }
 ],
 "metadata": {
  "interpreter": {
   "hash": "e9d371221c12fa3a9290d0b54fb308243371943e9d23d7974dedbd6973e80ab7"
  },
  "kernelspec": {
   "display_name": "Python 3.7.4 ('lbhb')",
   "language": "python",
   "name": "python3"
  },
  "language_info": {
   "codemirror_mode": {
    "name": "ipython",
    "version": 3
   },
   "file_extension": ".py",
   "mimetype": "text/x-python",
   "name": "python",
   "nbconvert_exporter": "python",
   "pygments_lexer": "ipython3",
   "version": "3.7.4"
  },
  "orig_nbformat": 4
 },
 "nbformat": 4,
 "nbformat_minor": 2
}
