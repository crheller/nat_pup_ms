{
 "cells": [
  {
   "cell_type": "code",
   "execution_count": 1,
   "metadata": {},
   "outputs": [
    {
     "name": "stderr",
     "output_type": "stream",
     "text": [
      "[nems.configs.defaults INFO] Saving log messages to /tmp/nems/NEMS 2022-03-12 112839.log\n"
     ]
    }
   ],
   "source": [
    "import numpy as np\n",
    "from sklearn.decomposition import FactorAnalysis\n",
    "from scipy.signal import argrelextrema\n",
    "import matplotlib.pyplot as plt\n",
    "import matplotlib as mpl\n",
    "mpl.rcParams['axes.spines.right'] = False\n",
    "mpl.rcParams['axes.spines.top'] = False\n",
    "mpl.rcParams['font.size'] = 14\n",
    "\n",
    "from charlieTools.nat_sounds_ms.decoding import load_site"
   ]
  },
  {
   "cell_type": "code",
   "execution_count": 32,
   "metadata": {},
   "outputs": [
    {
     "name": "stderr",
     "output_type": "stream",
     "text": [
      "[nems_lbhb.baphy_experiment INFO] Cached recording: /auto/data/nems_db/recordings/322/TNC010a_780028df46058ddacf06b261415c6cf3aa66c08a.tgz\n",
      "[nems_lbhb.baphy_experiment INFO] Cached recording found\n",
      "[root INFO] Extracting cellids: ['TNC010a-06-2', 'TNC010a-07-3', 'TNC010a-08-1', 'TNC010a-15-1', 'TNC010a-20-2', 'TNC010a-21-1', 'TNC010a-23-1', 'TNC010a-25-1', 'TNC010a-27-2', 'TNC010a-29-1', 'TNC010a-31-2', 'TNC010a-33-2', 'TNC010a-33-3', 'TNC010a-33-4', 'TNC010a-33-5', 'TNC010a-36-1', 'TNC010a-41-2', 'TNC010a-41-3', 'TNC010a-42-1', 'TNC010a-43-1', 'TNC010a-45-1', 'TNC010a-63-1', 'TNC010a-63-2']\n"
     ]
    }
   ],
   "source": [
    "X, sp_bins, X_pup, pup_mask, epochs = load_site(site=\"TNC010a\", batch=322, regress_pupil=False, use_xforms=False, return_epoch_list=True)\n",
    "# note -- see cache_dprime.py for how to convert \"epochs\" into actual epoch / bin names for each of the epochs / bins here, if we need to recover the stimulus"
   ]
  },
  {
   "cell_type": "code",
   "execution_count": 245,
   "metadata": {},
   "outputs": [],
   "source": [
    "# select a stimulus and fit model for different n components\n",
    "nstim = X.shape[-1] * X.shape[-2]\n",
    "Xfa = X.reshape(X.shape[0], X.shape[1], nstim)\n",
    "nfold = 5\n",
    "LL = np.zeros((nstim, 10, nfold))\n",
    "for stim in range(nstim):\n",
    "    _Xfa = Xfa[:, :, stim]\n",
    "    for ii in np.arange(1, LL.shape[1]+1):\n",
    "        fa = FactorAnalysis(n_components=ii, random_state=0) # init model\n",
    "        np.random.seed(123)\n",
    "        for nf in range(nfold):\n",
    "            val = np.random.choice(np.arange(0, _Xfa.shape[1]), int(_Xfa.shape[-1] / nfold), replace=False)\n",
    "            fit = [x for x in np.arange(0, _Xfa.shape[1]) if x not in val]\n",
    "            fa.fit(_Xfa[:, fit].T) # fit model\n",
    "            # Get LL score\n",
    "            LL[stim, ii-1, nf] = fa.score(_Xfa[:, val].T)"
   ]
  },
  {
   "cell_type": "code",
   "execution_count": 247,
   "metadata": {},
   "outputs": [
    {
     "data": {
      "text/plain": [
       "Text(0, 0.5, 'LL')"
      ]
     },
     "execution_count": 247,
     "metadata": {},
     "output_type": "execute_result"
    },
    {
     "data": {
      "image/png": "[encoded data removed]",
      "text/plain": [
       "<Figure size 360x360 with 1 Axes>"
      ]
     },
     "metadata": {
      "needs_background": "light"
     },
     "output_type": "display_data"
    }
   ],
   "source": [
    "# plot LL vs. components to select dimensionality\n",
    "f, ax = plt.subplots(1, 1, figsize=(5, 5))\n",
    "ax.plot(LL[1, :, :].mean(axis=-1), \"-o\")\n",
    "ax.set_xlabel(\"n components\")\n",
    "ax.set_ylabel(\"LL\")"
   ]
  },
  {
   "cell_type": "code",
   "execution_count": 33,
   "metadata": {},
   "outputs": [],
   "source": [
    "# measure change in dimensionality, %sv, loading sim, across jackknifes\n",
    "def get_dim(LL):\n",
    "    try:\n",
    "        return argrelextrema(LL, np.greater)[0][0]+1\n",
    "    except:\n",
    "        return np.argmax(LL)+1\n",
    "\n",
    "def get_sv(model):\n",
    "    sig_shared = (model.components_.T @ model.components_) # rank n_components cov matrix\n",
    "    full_cov_pred = sig_shared + np.diag(model.noise_variance_)\n",
    "    # % shared variance\n",
    "    # per neuron\n",
    "    pn = np.diag(sig_shared) / np.diag(full_cov_pred)\n",
    "    # average\n",
    "    sv = np.mean(pn)\n",
    "    return sv\n",
    "\n",
    "def sigma_shared(model):\n",
    "    return (model.components_.T @ model.components_)\n",
    "\n",
    "def get_loading_similarity(model):\n",
    "    # loading similarity\n",
    "    loading = model.components_[0, :]\n",
    "    loading /= np.linalg.norm(loading)\n",
    "    load_sim = 1 - (np.var(loading) / (1 / len(loading)))\n",
    "    return load_sim\n",
    "\n",
    "def get_dim95(model):\n",
    "    \"\"\"\n",
    "    number of dims to explain 95% of shared var\n",
    "    \"\"\"\n",
    "    ss = sigma_shared(model)\n",
    "    evals, _ = np.linalg.eig(ss)\n",
    "    evals = evals / sum(evals)\n",
    "    return np.argwhere(np.cumsum(evals)>=0.95)[0][0]+1"
   ]
  },
  {
   "cell_type": "code",
   "execution_count": 34,
   "metadata": {},
   "outputs": [
    {
     "name": "stdout",
     "output_type": "stream",
     "text": [
      "1 / 20\n",
      "2 / 20\n",
      "3 / 20\n",
      "4 / 20\n",
      "5 / 20\n",
      "6 / 20\n",
      "7 / 20\n",
      "8 / 20\n",
      "9 / 20\n",
      "10 / 20\n",
      "11 / 20\n",
      "12 / 20\n",
      "13 / 20\n",
      "14 / 20\n",
      "15 / 20\n",
      "16 / 20\n",
      "17 / 20\n",
      "18 / 20\n",
      "19 / 20\n",
      "20 / 20\n"
     ]
    }
   ],
   "source": [
    "# fit all stim together, after subtracting psth\n",
    "# \"special\" cross-validation -- fitting individual stims doesn't work, not enough data\n",
    "# instead, leave-one-stim out fitting to find dims that are shared / stimulus-independent\n",
    "nstim = X.shape[-1] * X.shape[-2]\n",
    "Xsub = (X - X.mean(axis=1, keepdims=True))\n",
    "Xfa = Xsub.reshape(X.shape[0], X.shape[1], nstim)\n",
    "pm = pup_mask.reshape(pup_mask.shape[0], pup_mask.shape[1], nstim)\n",
    "#pm = pm[:, np.random.choice(range(pup_mask.shape[1]), pup_mask.shape[1], replace=False), :]\n",
    "nfold = nstim\n",
    "LL = np.zeros((20, nfold))\n",
    "LL_small = np.zeros((20, nfold))\n",
    "LL_large = np.zeros((20, nfold))\n",
    "for ii in np.arange(1, LL.shape[0]+1):\n",
    "    print(f\"{ii} / {LL.shape[0]}\")\n",
    "    fa = FactorAnalysis(n_components=ii, random_state=0) # init model\n",
    "    for nf in range(nfold):\n",
    "        fit = [x for x in np.arange(0, nstim) if x != nf]\n",
    "\n",
    "        # fit all data\n",
    "        fa.fit(Xfa[:, :, fit].reshape(Xfa.shape[0], -1).T) # fit model\n",
    "        # Get LL score\n",
    "        LL[ii-1, nf] = fa.score(Xfa[:, :, nf].T)\n",
    "\n",
    "        # fit large pupil\n",
    "        fa.fit(Xfa[:, :, fit][:, pm[0, :, fit].T].reshape(Xfa.shape[0], -1).T) # fit model \n",
    "        LL_large[ii-1, nf] = fa.score(Xfa[:, pm[0, :, nf], nf].T)\n",
    "\n",
    "        # fit small pupil\n",
    "        fa.fit(Xfa[:, :, fit][:, pm[0, :, fit].T==False].reshape(Xfa.shape[0], -1).T) # fit model \n",
    "        LL_small[ii-1, nf] = fa.score(Xfa[:, pm[0, :, nf]==False, nf].T)\n"
   ]
  },
  {
   "cell_type": "code",
   "execution_count": 35,
   "metadata": {},
   "outputs": [
    {
     "data": {
      "text/plain": [
       "<matplotlib.legend.Legend at 0x7f80d05a8690>"
      ]
     },
     "execution_count": 35,
     "metadata": {},
     "output_type": "execute_result"
    },
    {
     "data": {
      "image/png": "[encoded data removed]",
      "text/plain": [
       "<Figure size 360x360 with 1 Axes>"
      ]
     },
     "metadata": {
      "needs_background": "light"
     },
     "output_type": "display_data"
    }
   ],
   "source": [
    "f, ax = plt.subplots(1, 1, figsize=(5, 5))\n",
    "ax.plot(LL.mean(axis=-1) / -max(LL.mean(axis=-1)), \"-o\")\n",
    "max_ind = argrelextrema(LL.mean(axis=-1), np.greater)\n",
    "ax.axvline(max_ind[0][0], linestyle=\"--\", color=\"k\")\n",
    "\n",
    "ax.plot(LL_small.mean(axis=-1) / -max(LL_small.mean(axis=-1)), \"-o\", label=\"small\")\n",
    "sm_max_ind = argrelextrema(LL_small.mean(axis=-1), np.greater)\n",
    "ax.axvline(sm_max_ind[0][0], linestyle=\"--\", color=\"tab:orange\")\n",
    "\n",
    "ax.plot(LL_large.mean(axis=-1) / -max(LL_large.mean(axis=-1)), \"-o\", label=\"large\")\n",
    "lg_max_ind = argrelextrema(LL_large.mean(axis=-1), np.greater)\n",
    "ax.axvline(lg_max_ind[0][0], linestyle=\"--\", color=\"tab:green\")\n",
    "\n",
    "# for i in range(nfold):\n",
    "#     ax.plot(LL[:, i], alpha=0.5, color=\"tab:blue\")\n",
    "ax.set_xlabel(\"n components\")\n",
    "ax.set_ylabel(\"LL(norm)\")\n",
    "ax.legend()"
   ]
  },
  {
   "cell_type": "code",
   "execution_count": 36,
   "metadata": {},
   "outputs": [
    {
     "data": {
      "text/plain": [
       "(23, 20, 90)"
      ]
     },
     "execution_count": 36,
     "metadata": {},
     "output_type": "execute_result"
    }
   ],
   "source": [
    "Xfa.shape"
   ]
  },
  {
   "cell_type": "code",
   "execution_count": 38,
   "metadata": {},
   "outputs": [
    {
     "data": {
      "text/plain": [
       "(23, 890)"
      ]
     },
     "execution_count": 38,
     "metadata": {},
     "output_type": "execute_result"
    }
   ],
   "source": [
    "Xfa[:, :, range(89)][:, pm[0, :, range(89)].T==False].shape"
   ]
  },
  {
   "cell_type": "code",
   "execution_count": 20,
   "metadata": {},
   "outputs": [],
   "source": [
    "sp_dim_sem = np.std([get_dim(LL_small[:, i]) for i in range(LL.shape[1])]) / np.sqrt(LL.shape[1])\n",
    "sp_dim = get_dim(LL_small.mean(axis=-1))\n",
    "# fit the \"best\" model\n",
    "fa = FactorAnalysis(n_components=sp_dim, random_state=0) \n",
    "fa.fit(Xfa[:, pm[0]==True].T)\n",
    "sp_sv = get_sv(fa)\n",
    "sp_loading_sim = get_loading_similarity(fa)\n",
    "sp_dim95 = get_dim95(fa)\n",
    "\n",
    "bp_dim_sem = np.std([get_dim(LL_large[:, i]) for i in range(LL.shape[1])]) / np.sqrt(LL.shape[1])\n",
    "bp_dim = get_dim(LL_large.mean(axis=-1))\n",
    "# fit the \"best\" model\n",
    "fa = FactorAnalysis(n_components=bp_dim, random_state=0) \n",
    "fa.fit(Xfa[:, pm[0]==False].T)\n",
    "bp_sv = get_sv(fa)\n",
    "bp_loading_sim = get_loading_similarity(fa)\n",
    "bp_dim95 = get_dim95(fa)"
   ]
  },
  {
   "cell_type": "code",
   "execution_count": 21,
   "metadata": {},
   "outputs": [
    {
     "data": {
      "image/png": "[encoded data removed]",
      "text/plain": [
       "<Figure size 576x288 with 3 Axes>"
      ]
     },
     "metadata": {
      "needs_background": "light"
     },
     "output_type": "display_data"
    }
   ],
   "source": [
    "f, ax = plt.subplots(1, 3, figsize=(8, 4))\n",
    "\n",
    "\n",
    "ax[0].errorbar([0, 1], [bp_dim, sp_dim], yerr=[bp_dim_sem, sp_dim_sem], marker=\"o\")\n",
    "ax[0].plot([0, 1], [bp_dim95, sp_dim95], marker=\"o\")\n",
    "ax[0].set_xticks([0, 1])\n",
    "ax[0].set_xticklabels([\"bp\", \"sp\"])\n",
    "ax[0].set_ylabel(\"nDim\")\n",
    "ax[0].set_xlim(-0.1, 1.1)\n",
    "\n",
    "ax[1].plot([0, 1], [bp_sv, sp_sv], \"o\")\n",
    "ax[1].set_xticks([0, 1])\n",
    "ax[1].set_xticklabels([\"bp\", \"sp\"])\n",
    "ax[1].set_ylabel(\"%sv\")\n",
    "ax[1].set_xlim(-0.1, 1.1)\n",
    "\n",
    "ax[2].plot([0, 1], [bp_loading_sim, sp_loading_sim], \"o\")\n",
    "ax[2].set_xticks([0, 1])\n",
    "ax[2].set_xticklabels([\"bp\", \"sp\"])\n",
    "ax[2].set_ylabel(\"Loading sim\")\n",
    "ax[2].set_xlim(-0.1, 1.1)\n",
    "\n",
    "f.tight_layout()"
   ]
  },
  {
   "cell_type": "code",
   "execution_count": 61,
   "metadata": {},
   "outputs": [
    {
     "data": {
      "text/plain": [
       "0.30160066804130753"
      ]
     },
     "execution_count": 61,
     "metadata": {},
     "output_type": "execute_result"
    }
   ],
   "source": [
    "np.std([get_dim(LL_large[:, i]) for i in range(LL.shape[1])]) / np.sqrt(LL.shape[1])"
   ]
  },
  {
   "cell_type": "code",
   "execution_count": 16,
   "metadata": {},
   "outputs": [],
   "source": [
    "ss = sigma_shared(fa)\n",
    "evals, _ = np.linalg.eig(ss)"
   ]
  },
  {
   "cell_type": "code",
   "execution_count": 18,
   "metadata": {},
   "outputs": [
    {
     "name": "stderr",
     "output_type": "stream",
     "text": [
      "/auto/users/hellerc/anaconda3/envs/lbhb/lib/python3.7/site-packages/numpy/core/_asarray.py:85: ComplexWarning: Casting complex values to real discards the imaginary part\n",
      "  return array(a, dtype, copy=False, order=order)\n"
     ]
    },
    {
     "data": {
      "text/plain": [
       "[<matplotlib.lines.Line2D at 0x7f80d08a5790>]"
      ]
     },
     "execution_count": 18,
     "metadata": {},
     "output_type": "execute_result"
    },
    {
     "data": {
      "image/png": "[encoded data removed]",
      "text/plain": [
       "<Figure size 432x288 with 1 Axes>"
      ]
     },
     "metadata": {
      "needs_background": "light"
     },
     "output_type": "display_data"
    }
   ],
   "source": [
    "plt.plot(np.cumsum(evals/sum(evals)), \".\")"
   ]
  },
  {
   "cell_type": "code",
   "execution_count": null,
   "metadata": {},
   "outputs": [],
   "source": []
  }
 ],
 "metadata": {
  "interpreter": {
   "hash": "e9d371221c12fa3a9290d0b54fb308243371943e9d23d7974dedbd6973e80ab7"
  },
  "kernelspec": {
   "display_name": "Python 3.7.4 ('lbhb')",
   "language": "python",
   "name": "python3"
  },
  "language_info": {
   "codemirror_mode": {
    "name": "ipython",
    "version": 3
   },
   "file_extension": ".py",
   "mimetype": "text/x-python",
   "name": "python",
   "nbconvert_exporter": "python",
   "pygments_lexer": "ipython3",
   "version": "3.7.4"
  },
  "orig_nbformat": 4
 },
 "nbformat": 4,
 "nbformat_minor": 2
}
