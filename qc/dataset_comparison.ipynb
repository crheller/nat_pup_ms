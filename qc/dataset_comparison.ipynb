{
 "cells": [
  {
   "cell_type": "markdown",
   "source": [
    "Compare results between different \"datasets\" -- NAT vs. small CPN vs. big CPN\n",
    "\n",
    "Quesitons:\n",
    "    pupil-dependent...\n",
    "        decoding the same?\n",
    "        noise correlations the same?\n",
    "        first order changes?\n",
    "    overall pupil variance?\n",
    "    number of cells?\n",
    "    mean firing rates?\n",
    "    MUA / instability?"
   ],
   "metadata": {}
  },
  {
   "cell_type": "code",
   "execution_count": null,
   "source": [],
   "outputs": [],
   "metadata": {}
  }
 ],
 "metadata": {
  "orig_nbformat": 4,
  "language_info": {
   "name": "python"
  }
 },
 "nbformat": 4,
 "nbformat_minor": 2
}