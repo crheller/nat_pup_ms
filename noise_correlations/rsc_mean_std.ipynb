{
 "cells": [
  {
   "cell_type": "markdown",
   "metadata": {},
   "source": [
    "### Following Umakantha neuron paper, look at both mean / std of noise correlations"
   ]
  },
  {
   "cell_type": "code",
   "execution_count": 1,
   "metadata": {},
   "outputs": [],
   "source": [
    "import sys\n",
    "sys.path.append(\"/auto/users/hellerc/code/projects/nat_pupil_ms\")\n",
    "import load_results as ld\n",
    "import numpy as np\n",
    "import matplotlib.pyplot as plt\n",
    "import scipy.stats as ss\n",
    "import matplotlib as mpl\n",
    "mpl.rcParams['axes.spines.right'] = False\n",
    "mpl.rcParams['axes.spines.top'] = False\n",
    "mpl.rcParams['font.size'] = 8"
   ]
  },
  {
   "cell_type": "code",
   "execution_count": 2,
   "metadata": {},
   "outputs": [],
   "source": [
    "# load results\n",
    "rsc = ld.load_noise_correlation(\"rsc_ev\")"
   ]
  },
  {
   "cell_type": "code",
   "execution_count": 3,
   "metadata": {},
   "outputs": [
    {
     "data": {
      "text/plain": [
       "Index(['all', 'p_all', 'gm_all', 'bp', 'p_bp', 'gm_bp', 'sp', 'p_sp', 'gm_sp',\n",
       "       'site', 'stim', 'mean_pupil_range', 'batch'],\n",
       "      dtype='object')"
      ]
     },
     "execution_count": 3,
     "metadata": {},
     "output_type": "execute_result"
    }
   ],
   "source": [
    "rsc.keys()"
   ]
  },
  {
   "cell_type": "code",
   "execution_count": 4,
   "metadata": {},
   "outputs": [],
   "source": [
    "mask = (rsc['gm_bp']>0.0) & (rsc['gm_sp']>0.0) #& (rsc[\"p_all\"]<0.01)\n",
    "bpm = rsc[mask].groupby(by=[\"site\", \"batch\"]).mean()[\"bp\"]\n",
    "spm = rsc[mask].groupby(by=[\"site\", \"batch\"]).mean()[\"sp\"]\n",
    "bpsd = rsc[mask].groupby(by=[\"site\", \"batch\"]).std()[\"bp\"]\n",
    "spsd = rsc[mask].groupby(by=[\"site\", \"batch\"]).std()[\"sp\"]"
   ]
  },
  {
   "cell_type": "code",
   "execution_count": 6,
   "metadata": {},
   "outputs": [
    {
     "data": {
      "text/plain": [
       "Text(0.5, 1.0, '$r_{sc}$ mean: p=0.7007,    $r_{sc}$ std: p=0.2489')"
      ]
     },
     "execution_count": 6,
     "metadata": {},
     "output_type": "execute_result"
    },
    {
     "data": {
      "image/png": "[encoded data removed]",
      "text/plain": [
       "<Figure size 360x360 with 1 Axes>"
      ]
     },
     "metadata": {
      "needs_background": "light"
     },
     "output_type": "display_data"
    }
   ],
   "source": [
    "mask_331 = bpm.index.get_level_values(1)==331 #[True]*len(bpm) #bpm.index.get_level_values(1)==322\n",
    "f, ax = plt.subplots(1, 1, figsize=(5, 5))\n",
    "\n",
    "for i in range(len(bpm[mask_331])):\n",
    "    #ax.plot([bpm[mask_331].iloc[i],spm[mask_331].iloc[i]], [bpsd[mask_331].iloc[i],spsd[mask_331].iloc[i]],  \"k-\", zorder=-1)\n",
    "    x, y = [spm[mask_331].iloc[i], spsd[mask_331].iloc[i]]\n",
    "    dx, dy = [bpm[mask_331].iloc[i]-spm[mask_331].iloc[i], bpsd[mask_331].iloc[i]-spsd[mask_331].iloc[i]]\n",
    "    #ax.arrow(x, y, dx, dy, color=\"k\", alpha=0.5, lw=0.5, **{\"length_includes_head\": True, \"width\": 0.002})\n",
    "ax.scatter(bpm[mask_331], bpsd[mask_331], color=\"tab:blue\", edgecolor=\"white\", s=25, label=\"large\", alpha=1)\n",
    "ax.scatter(spm[mask_331], spsd[mask_331], color=\"tab:orange\", edgecolor=\"white\", s=25, label=\"small\", alpha=1)\n",
    "ax.legend(frameon=False)\n",
    "\n",
    "ax.set_xlim((0, 0.25))\n",
    "ax.set_ylim((0, 0.25))\n",
    "ax.set_xlabel(r\"$r_{sc}$ mean\", fontsize=12)\n",
    "ax.set_ylabel(r\"$r_{sc}$ std\", fontsize=12)\n",
    "mean_pval = np.round(ss.wilcoxon(bpm[mask_331], spm[mask_331]).pvalue, 4)\n",
    "std_pval = np.round(ss.wilcoxon(bpsd[mask_331], spsd[mask_331]).pvalue, 4)\n",
    "ax.set_title(r\"$r_{sc}$ mean: p=%s,    $r_{sc}$ std: p=%s\" % (mean_pval, std_pval)) \n"
   ]
  },
  {
   "cell_type": "code",
   "execution_count": 9,
   "metadata": {},
   "outputs": [
    {
     "data": {
      "text/plain": [
       "bp    0.105602\n",
       "sp    0.096869\n",
       "dtype: float64"
      ]
     },
     "execution_count": 9,
     "metadata": {},
     "output_type": "execute_result"
    }
   ],
   "source": [
    "rsc[rsc.site==\"TNC014a\"][['bp', 'sp']].std()"
   ]
  },
  {
   "cell_type": "code",
   "execution_count": null,
   "metadata": {},
   "outputs": [],
   "source": []
  }
 ],
 "metadata": {
  "interpreter": {
   "hash": "e9d371221c12fa3a9290d0b54fb308243371943e9d23d7974dedbd6973e80ab7"
  },
  "kernelspec": {
   "display_name": "Python 3.7.4 ('lbhb')",
   "language": "python",
   "name": "python3"
  },
  "language_info": {
   "codemirror_mode": {
    "name": "ipython",
    "version": 3
   },
   "file_extension": ".py",
   "mimetype": "text/x-python",
   "name": "python",
   "nbconvert_exporter": "python",
   "pygments_lexer": "ipython3",
   "version": "3.7.4"
  },
  "orig_nbformat": 4
 },
 "nbformat": 4,
 "nbformat_minor": 2
}
